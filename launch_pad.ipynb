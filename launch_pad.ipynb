{
 "cells": [
  {
   "cell_type": "code",
   "execution_count": null,
   "outputs": [],
   "source": [
    "# dbutils.widgets.text(\"step_id\",\"18111\") dbks2mysql\n",
    "# dbutils.widgets.text(\"step_id\",\"18232\") # redshift2mysql\n",
    "# dbutils.widgets.text(\"step_id\",\"18233\") # redshift2mysql prod\n",
    "# dbutils.widgets.text(\"step_id\",\"18234\") # redshift2mysql uat\n",
    "# dbutils.widgets.text(\"step_id\",\"18266\") # redshift2mysql prod\n",
    "# dbutils.widgets.text(\"step_id\",\"18266\") # redshift2mysql prod\n",
    "# dbutils.widgets.text(\"step_id\",\"18267\") # dms_redshift2mysql_agg_daily_incr_eligibility_snapshot_grp_rc_st_mvp_db_uat\n",
    "# dbutils.widgets.text(\"mysql_env\",\"\")\n",
    "# dbutils.widgets.text(\"secret_mgr_scope\",\"de-scope-confg\")\n",
    "# dbutils.widgets.text(\"mysql_env\",\"uat\") # praveen env\n",
    "# dbutils.widgets.text(\"step_id\",\"18269\") # praveen dmes\n",
    "# dbutils.widgets.text(\"step_id\",\"18275\") # praveen dmes_rollup\n",
    "# dbutils.widgets.text(\"step_id\",\"18273\") # fl testing from uat member_master.mrn_renewal_histories\n",
    "# dbutils.widgets.text(\"step_id\",\"18274\") # fl testing from uat dmes\n",
    "dbutils.widgets.text(\"secret_mgr_scope\",\"de-scope-confg\")\n",
    "\n",
    "# dbutils.widgets.text(\"src_schema\",\"de_currstate_report\")\n",
    "# dbutils.widgets.text(\"src_table\",\"daily_member_eligibility_snapshot\")\n",
    "# dbutils.widgets.text(\"tgt_schema\",\"data_science_edw_staging\")\n",
    "# dbutils.widgets.text(\"tgt_table\",\"dbks_dmes_temp2\")\n",
    "#\n",
    "# src_schema = dbutils.widgets.get(\"mysql_env\")\n",
    "# src_table = dbutils.widgets.get(\"src_table\")\n",
    "\n",
    "meta_step_id = dbutils.widgets.get(\"step_id\")\n",
    "# mysql_env = dbutils.widgets.get(\"mysql_env\")\n",
    "# mysql_env = dbutils.widgets.get(\"secret_mgr_scope\")\n",
    "secret_mgr_scope = dbutils.widgets.get(\"secret_mgr_scope\")"
   ],
   "metadata": {
    "collapsed": false
   }
  },
  {
   "cell_type": "code",
   "execution_count": null,
   "outputs": [],
   "source": [
    "# redshift loader settings\n",
    "# tempS3Dir = \"s3://livongo-ds-temp\"\n",
    "# RS_SETUP_TEMP_S3IAM = 'arn:aws:iam::113931794823:role/Redshift_Databricks_S3'\n",
    "# tgt_tbl=\"data_science_edw_staging.dbks_dmes_temp2\""
   ],
   "metadata": {
    "collapsed": false
   }
  },
  {
   "cell_type": "code",
   "execution_count": null,
   "outputs": [],
   "source": [
    "def get_current_notebook_path():\n",
    "    notebook_path = dbutils.entry_point.getDbutils().notebook().getContext().notebookPath().get()\n",
    "    return notebook_path\n",
    "\n",
    "def get_environment_from_notebook_path():\n",
    "    note_book_path = get_current_notebook_path()\n",
    "    main_logger.info(f\"Notebook path :{note_book_path}\")\n",
    "    if '/uat/' in note_book_path:\n",
    "        return 'uat'\n",
    "    elif '/prod/' in note_book_path:\n",
    "        return 'prod'\n",
    "\n",
    "def get_user_mysql_cred(mysql_env,secret_mgr_scope):\n",
    "    if mysql_env.lower() in ['uat','prod']:\n",
    "        mysql_ip_user = dbutils.secrets.get(scope=secret_mgr_scope, key=\"mysql_serv_acct\")\n",
    "        mysql_password = dbutils.secrets.get(scope=secret_mgr_scope, key=\"mysql_talend_password\")\n",
    "        return mysql_ip_user,mysql_password\n",
    "    else:\n",
    "        raise Exception(f\"Invalid environment for mysql user credentials {mysql_env}\")\n",
    "\n",
    "def get_redshift_user_cred(redshift_env,secret_mgr_scope):\n",
    "    if redshift_env.lower() in ['prod']:\n",
    "        redshift_ip_user = dbutils.secrets.get(scope=secret_mgr_scope, key=\"redshift_talend_username\")\n",
    "        redshift_password = dbutils.secrets.get(scope=secret_mgr_scope, key=\"redshift_talend_password\")\n",
    "        return redshift_ip_user,redshift_password\n",
    "    else:\n",
    "        raise Exception(f\"Invalid environment for redshift user credentials {mysql_env}\")\n"
   ],
   "metadata": {
    "collapsed": false
   }
  },
  {
   "cell_type": "code",
   "execution_count": null,
   "outputs": [],
   "source": [
    "# df = ss.sql(\"select * from de_currstate_report.daily_member_eligibility_snapshot\")\n",
    "import entry_point\n",
    "import importlib\n",
    "from common.logmgr import get_logger\n",
    "\n",
    "main_logger = get_logger()\n",
    "\n",
    "importlib.reload(entry_point)\n",
    "environment = get_environment_from_notebook_path()\n",
    "main_logger.info(f\"Environment identified as :{environment}\")\n",
    "mysql_user,mysql_pass = get_user_mysql_cred(mysql_env=environment,secret_mgr_scope=secret_mgr_scope)\n",
    "redshift_user,redshift_pass = get_redshift_user_cred(redshift_env='prod',secret_mgr_scope=secret_mgr_scope)\n",
    "\n",
    "if meta_step_id is None:\n",
    "    raise Exception(f\"Missing meta step id in environment :{environment}\")\n",
    "entry_point.start_dbks_dms(step_id=meta_step_id, meta_env=environment\n",
    "                                     ,mysql_user=mysql_user, mysql_pass=mysql_pass\n",
    "                                     ,redshift_user=redshift_user,redshift_pass=redshift_pass)"
   ],
   "metadata": {
    "collapsed": false,
    "pycharm": {
     "is_executing": true
    }
   }
  }
 ],
 "metadata": {
  "kernelspec": {
   "display_name": "Python 3",
   "language": "python",
   "name": "python3"
  },
  "language_info": {
   "codemirror_mode": {
    "name": "ipython",
    "version": 2
   },
   "file_extension": ".py",
   "mimetype": "text/x-python",
   "name": "python",
   "nbconvert_exporter": "python",
   "pygments_lexer": "ipython2",
   "version": "2.7.6"
  }
 },
 "nbformat": 4,
 "nbformat_minor": 0
}
