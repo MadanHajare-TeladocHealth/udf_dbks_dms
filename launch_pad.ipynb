{
 "cells": [
  {
   "cell_type": "code",
   "execution_count": 0,
   "metadata": {
    "application/vnd.databricks.v1+cell": {
     "cellMetadata": {
      "byteLimit": 2048000,
      "rowLimit": 10000
     },
     "inputWidgets": {},
     "nuid": "cdc1f194-0163-4234-9eea-c75e8973e728",
     "showTitle": false,
     "title": ""
    },
    "jupyter": {
     "outputs_hidden": true
    }
   },
   "outputs": [],
   "source": [
    "%pip install -r requirements.txt"
   ]
  },
  {
   "cell_type": "code",
   "execution_count": 0,
   "metadata": {
    "application/vnd.databricks.v1+cell": {
     "cellMetadata": {
      "byteLimit": 2048000,
      "rowLimit": 10000
     },
     "inputWidgets": {},
     "nuid": "a15c117a-2810-456a-b956-86d2985385d8",
     "showTitle": false,
     "title": ""
    }
   },
   "outputs": [],
   "source": [
    "import pyspark.sql.functions as f\n",
    "import sys\n",
    "\n",
    "import entry_point\n",
    "import importlib\n",
    "import dbks_dbms.mgr.dbks_dms_mgr\n",
    "import dbks_dbms.stg_tbl_mgr.mysql_tbl_mgr\n",
    "import dbks_dbms.mysql_rw.mysql_writer\n",
    "from dbks_dbms.stg_tbl_mgr.mysql_tbl_mgr import MysqlTblMgr\n",
    "from dbks_dbms.mysql_rw.mysql_writer import MysqlWriter"
   ]
  },
  {
   "cell_type": "code",
   "execution_count": 0,
   "metadata": {
    "application/vnd.databricks.v1+cell": {
     "cellMetadata": {
      "byteLimit": 2048000,
      "rowLimit": 10000
     },
     "inputWidgets": {},
     "nuid": "970c0f09-b321-4c9f-b676-e3d6765c9e7c",
     "showTitle": false,
     "title": ""
    }
   },
   "outputs": [],
   "source": [
    "src_table_name=\"dw_dim_state\"\n",
    "src_database=\"Volumes/ptudfpii/pii/conformedpiiedw/dw\"\n",
    "tgt_db_typ=\"mysql\"\n"
   ]
  },
  {
   "cell_type": "code",
   "execution_count": 0,
   "metadata": {
    "application/vnd.databricks.v1+cell": {
     "cellMetadata": {
      "byteLimit": 2048000,
      "rowLimit": 10000
     },
     "inputWidgets": {},
     "nuid": "01610e47-318a-44d6-acd2-ddc13617d9e7",
     "showTitle": false,
     "title": ""
    },
    "collapsed": false
   },
   "outputs": [],
   "source": [
    "def get_current_notebook_path():\n",
    "    notebook_path = dbutils.entry_point.getDbutils().notebook().getContext().notebookPath().get()\n",
    "    return notebook_path\n",
    "\n",
    "def get_environment_from_notebook_path():\n",
    "    #note_book_path = get_current_notebook_path()\n",
    "    #main_logger.info(f\"Notebook path :{note_book_path}\")\n",
    "    if  spark.conf.get(\"spark.databricks.clusterUsageTags.clusterOwnerOrgId\")=='4022166418081681':\n",
    "        return 'PT'\n",
    "    elif spark.conf.get(\"spark.databricks.clusterUsageTags.clusterOwnerOrgId\")=='add production id':\n",
    "        return 'prod'\n",
    "\n",
    "def get_user_mysql_cred(mysql_env,secret_mgr_scope='ds-edw-prod'):\n",
    "    if mysql_env.lower() in ['pt','prod']:\n",
    "        mysql_ip='edwawsdatasci01.aws2.teladoc.com' #dbutils.secrets.get(scope=secret_mgr_scope, key='HOST_NAME')\n",
    "        mysql_port=3306 #dbutils.secrets.get(scope=secret_mgr_scope, key='HOST_PORT')\n",
    "        musql_username='databricks' #dbutils.secrets.get(scope=secret_mgr_scope, key='USERNAME')\n",
    "        mysql_password='masonry_e3' #dbutils.secrets.get(scope=secret_mgr_scope, key='PASSWORD')\n",
    "        return (mysql_ip,mysql_port,musql_username,mysql_password)\n",
    "    else:\n",
    "        raise Exception(f\"Invalid environment for mysql user credentials {mysql_env}\")\n",
    "\n",
    "def get_redshift_user_cred(redshift_env,secret_mgr_scope):\n",
    "    if redshift_env.lower() in ['prod']:\n",
    "        redshift_ip_user = None #dbutils.secrets.get(scope=secret_mgr_scope, key=\"redshift_talend_username\")\n",
    "        redshift_password = None #dbutils.secrets.get(scope=secret_mgr_scope, key=\"redshift_talend_password\")\n",
    "        return redshift_ip_user,redshift_password\n",
    "    else:\n",
    "        raise Exception(f\"Invalid environment for redshift user credentials {mysql_env}\")\n"
   ]
  },
  {
   "cell_type": "code",
   "execution_count": 0,
   "metadata": {
    "application/vnd.databricks.v1+cell": {
     "cellMetadata": {
      "byteLimit": 2048000,
      "rowLimit": 10000
     },
     "inputWidgets": {},
     "nuid": "128e66d4-2c40-4a1e-b2d1-6ec4188402a9",
     "showTitle": false,
     "title": ""
    },
    "collapsed": false,
    "pycharm": {
     "is_executing": true
    }
   },
   "outputs": [],
   "source": [
    "\n",
    "\n",
    "importlib.reload(entry_point)\n",
    "environment = get_environment_from_notebook_path()\n",
    "\n",
    "\n"
   ]
  },
  {
   "cell_type": "code",
   "execution_count": 0,
   "metadata": {
    "application/vnd.databricks.v1+cell": {
     "cellMetadata": {
      "byteLimit": 2048000,
      "rowLimit": 10000
     },
     "inputWidgets": {},
     "nuid": "88e7793a-f944-4c64-a292-8ce917ff3581",
     "showTitle": false,
     "title": ""
    }
   },
   "outputs": [],
   "source": [
    " \n",
    "pathlist = ['/Workspace/Users/madan.hajare@teladochealth.com/dbks_dbms','/Workspace/Users/madan.hajare@teladochealth.com/dbks_dbms/mgr','/Workspace/Users/madan.hajare@teladochealth.com/dbks_dbms/mgr/dbks_dms_mgr','/Workspace/Users/madan.hajare@teladochealth.com/dbks_dbms/stg_tbl_mgr/mysql_tbl_mgr'\n",
    "            ,'dbks_dbms/mysql_rw/mysql_writer']\n",
    "\n",
    "for path in pathlist:\n",
    "    if path not in sys.path:\n",
    "        print(\"Adding path: \" + path)\n",
    "        sys.path.append(path)\n",
    "\n",
    "\n",
    "importlib.reload(dbks_dbms.mgr.dbks_dms_mgr)\n",
    "importlib.reload(dbks_dbms.stg_tbl_mgr.mysql_tbl_mgr)\n",
    "importlib.reload(dbks_dbms.mysql_rw.mysql_writer)"
   ]
  },
  {
   "cell_type": "code",
   "execution_count": 0,
   "metadata": {
    "application/vnd.databricks.v1+cell": {
     "cellMetadata": {
      "byteLimit": 2048000,
      "rowLimit": 10000
     },
     "inputWidgets": {},
     "nuid": "72da289d-9d0c-40de-8512-4a37a75ff173",
     "showTitle": false,
     "title": ""
    }
   },
   "outputs": [],
   "source": [
    "\n",
    "df=spark.table(\"udf_internal.udf_to_rdbms_sync\").where(f\"src_tbl='{src_table_name}'\").select(\"udf_to_rdbms_sync_key\",\"src_db\",\"src_tbl\",\"tgt_db_typ\",\"tgt_db\",\"tgt_tbl\",\"merge_keys\")\n",
    "\n",
    "assert df.count() > 0, \"No records found in udf_internal.udf_to_rdbms_sync\"\n",
    "\n",
    "# check last successful log entry and get watermark value\n",
    "\n",
    "\n",
    "for row in df.collect():\n",
    "    mysql_ip,mysql_port,mysql_username,mysql_password = get_user_mysql_cred(mysql_env=environment,secret_mgr_scope='ds-edw-prod')\n",
    "    redshift_user,redshift_pass = get_redshift_user_cred(redshift_env='prod',secret_mgr_scope='ds-edw-prod')\n",
    "\n",
    " \n",
    "\n",
    "    sql_conn= (mysql_ip,mysql_port,mysql_username,mysql_password,redshift_user,redshift_pass)    \n",
    "    master_obj= entry_point.start_dbks_dms(row,sql_conn)\n",
    "  \n",
    "                                    \n",
    "\n",
    "\n",
    "\n",
    "\n",
    "    "
   ]
  }
 ],
 "metadata": {
  "application/vnd.databricks.v1+notebook": {
   "dashboards": [],
   "environmentMetadata": null,
   "language": "python",
   "notebookMetadata": {
    "mostRecentlyExecutedCommandWithImplicitDF": {
     "commandId": -1,
     "dataframes": [
      "_sqldf"
     ]
    },
    "pythonIndentUnit": 4
   },
   "notebookName": "launch_pad",
   "widgets": {}
  },
  "kernelspec": {
   "display_name": "Python 3",
   "language": "python",
   "name": "python3"
  },
  "language_info": {
   "codemirror_mode": {
    "name": "ipython",
    "version": 2
   },
   "file_extension": ".py",
   "mimetype": "text/x-python",
   "name": "python",
   "nbconvert_exporter": "python",
   "pygments_lexer": "ipython2",
   "version": "2.7.6"
  }
 },
 "nbformat": 4,
 "nbformat_minor": 0
}
