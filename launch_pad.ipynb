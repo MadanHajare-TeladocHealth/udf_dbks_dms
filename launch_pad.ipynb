{
 "cells": [
  {
   "cell_type": "code",
   "execution_count": 0,
   "metadata": {
    "application/vnd.databricks.v1+cell": {
     "cellMetadata": {
      "byteLimit": 2048000,
      "rowLimit": 10000
     },
     "inputWidgets": {},
     "nuid": "0b165e9b-6a2c-4790-acfb-b59aa223dc41",
     "showTitle": false,
     "title": ""
    }
   },
   "outputs": [],
   "source": [
    "%pip install redshift_connector"
   ]
  },
  {
   "cell_type": "code",
   "execution_count": 0,
   "metadata": {
    "application/vnd.databricks.v1+cell": {
     "cellMetadata": {
      "byteLimit": 2048000,
      "rowLimit": 10000
     },
     "inputWidgets": {},
     "nuid": "189817d1-fd9e-4259-b218-bf327225f405",
     "showTitle": false,
     "title": ""
    }
   },
   "outputs": [],
   "source": [
    "%pip install pymysql"
   ]
  },
  {
   "cell_type": "code",
   "execution_count": 0,
   "metadata": {
    "application/vnd.databricks.v1+cell": {
     "cellMetadata": {
      "byteLimit": 2048000,
      "rowLimit": 10000
     },
     "inputWidgets": {},
     "nuid": "6468a998-c3ab-452f-bc6b-a288e89f6e36",
     "showTitle": false,
     "title": ""
    }
   },
   "outputs": [],
   "source": [
    "%pip install sqlalchemy"
   ]
  },
  {
   "cell_type": "code",
   "execution_count": 0,
   "metadata": {
    "application/vnd.databricks.v1+cell": {
     "cellMetadata": {
      "byteLimit": 2048000,
      "rowLimit": 10000
     },
     "inputWidgets": {},
     "nuid": "01610e47-318a-44d6-acd2-ddc13617d9e7",
     "showTitle": false,
     "title": ""
    },
    "collapsed": false
   },
   "outputs": [],
   "source": [
    "def get_current_notebook_path():\n",
    "    notebook_path = dbutils.entry_point.getDbutils().notebook().getContext().notebookPath().get()\n",
    "    return notebook_path\n",
    "\n",
    "def get_environment_from_notebook_path():\n",
    "    #note_book_path = get_current_notebook_path()\n",
    "    #main_logger.info(f\"Notebook path :{note_book_path}\")\n",
    "    if  spark.conf.get(\"spark.databricks.clusterUsageTags.clusterOwnerOrgId\")=='4022166418081681':\n",
    "        return 'PT'\n",
    "    elif spark.conf.get(\"spark.databricks.clusterUsageTags.clusterOwnerOrgId\")=='add production id':\n",
    "        return 'prod'\n",
    "\n",
    "def get_user_mysql_cred(mysql_env,secret_mgr_scope='ds-edw-prod'):\n",
    "    if mysql_env.lower() in ['pt','prod']:\n",
    "        mysql_ip=dbutils.secrets.get(scope=secret_mgr_scope, key='HOST_NAME')\n",
    "        mysql_port=dbutils.secrets.get(scope=secret_mgr_scope, key='HOST_PORT')\n",
    "        musql_username=dbutils.secrets.get(scope=secret_mgr_scope, key='USERNAME')\n",
    "        mysql_password=dbutils.secrets.get(scope=secret_mgr_scope, key='PASSWORD')\n",
    "        return (mysql_ip,mysql_port,musql_username,mysql_password)\n",
    "    else:\n",
    "        raise Exception(f\"Invalid environment for mysql user credentials {mysql_env}\")\n",
    "\n",
    "def get_redshift_user_cred(redshift_env,secret_mgr_scope):\n",
    "    if redshift_env.lower() in ['prod']:\n",
    "        redshift_ip_user = dbutils.secrets.get(scope=secret_mgr_scope, key=\"redshift_talend_username\")\n",
    "        redshift_password = dbutils.secrets.get(scope=secret_mgr_scope, key=\"redshift_talend_password\")\n",
    "        return redshift_ip_user,redshift_password\n",
    "    else:\n",
    "        raise Exception(f\"Invalid environment for redshift user credentials {mysql_env}\")\n"
   ]
  },
  {
   "cell_type": "code",
   "execution_count": 0,
   "metadata": {
    "application/vnd.databricks.v1+cell": {
     "cellMetadata": {
      "byteLimit": 2048000,
      "rowLimit": 10000
     },
     "inputWidgets": {},
     "nuid": "128e66d4-2c40-4a1e-b2d1-6ec4188402a9",
     "showTitle": false,
     "title": ""
    },
    "collapsed": false,
    "pycharm": {
     "is_executing": true
    }
   },
   "outputs": [],
   "source": [
    "# df = ss.sql(\"select * from de_currstate_report.daily_member_eligibility_snapshot\")\n",
    "import entry_point\n",
    "import importlib\n",
    "#from common.logmgr import get_logger\n",
    "\n",
    "#main_logger = get_logger()\n",
    "\n",
    "importlib.reload(entry_point)\n",
    "environment = get_environment_from_notebook_path()\n",
    "#main_logger.info(f\"Environment identified as :{environment}\")\n",
    "mysql_ip,mysql_port,musql_username,mysql_password = get_user_mysql_cred(mysql_env=environment,secret_mgr_scope='ds-edw-prod')\n",
    "#redshift_user,redshift_pass = get_redshift_user_cred(redshift_env='prod',secret_mgr_scope='ds-edw-prod')\n",
    "\n",
    "\n",
    "#entry_point.start_dbks_dms(step_id=1, meta_env=environment\n",
    "#                                     ,mysql_user=musql_username, mysql_pass=mysql_password\n",
    "#                                     ,redshift_user=redshift_user,redshift_pass=redshift_pass)"
   ]
  }
 ],
 "metadata": {
  "application/vnd.databricks.v1+notebook": {
   "dashboards": [],
   "environmentMetadata": null,
   "language": "python",
   "notebookMetadata": {
    "pythonIndentUnit": 4
   },
   "notebookName": "launch_pad",
   "widgets": {}
  },
  "kernelspec": {
   "display_name": "Python 3",
   "language": "python",
   "name": "python3"
  },
  "language_info": {
   "codemirror_mode": {
    "name": "ipython",
    "version": 2
   },
   "file_extension": ".py",
   "mimetype": "text/x-python",
   "name": "python",
   "nbconvert_exporter": "python",
   "pygments_lexer": "ipython2",
   "version": "2.7.6"
  }
 },
 "nbformat": 4,
 "nbformat_minor": 0
}
